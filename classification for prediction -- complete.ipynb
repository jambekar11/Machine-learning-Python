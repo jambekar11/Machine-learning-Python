{
 "cells": [
  {
   "cell_type": "markdown",
   "metadata": {},
   "source": [
    "# Classification for Prediction"
   ]
  },
  {
   "cell_type": "markdown",
   "metadata": {},
   "source": [
    "<p> Here, we want to classify cheaters. Today's data set reports the results of an old survey of married people. Each row is associated to a person, whereas the columns report:\n",
    "<ul>\n",
    "<li><b>age, children</b>: age and number of children\n",
    "<li><b>religious</b>: the person's religiousness\n",
    "<li><b>educ</b>: the person's education level \n",
    "<li><b>occupation</b>: a code that identifies the person's occupation\n",
    "<li><b>rate_marriage</b>: how the person rates his or her marriage,\n",
    "<li><b>yrs_married</b>: length of the marriage, in years\n",
    "<li><b>affairs</b>: time spent, in hours/week, in extra-marital affairs \n",
    "</ul></p>\n",
    "<p>That is all we need to know about the columns' meaning.</p>"
   ]
  },
  {
   "cell_type": "code",
   "execution_count": 69,
   "metadata": {
    "scrolled": true
   },
   "outputs": [
    {
     "name": "stdout",
     "output_type": "stream",
     "text": [
      "Populating the interactive namespace from numpy and matplotlib\n"
     ]
    }
   ],
   "source": [
    "import pandas as pd\n",
    "import numpy as np\n",
    "import seaborn as sns\n",
    "%pylab inline\n",
    "\n",
    "import sklearn as sk"
   ]
  },
  {
   "cell_type": "code",
   "execution_count": 70,
   "metadata": {},
   "outputs": [],
   "source": [
    "df = pd.read_csv('affairs.csv', index_col=0)"
   ]
  },
  {
   "cell_type": "markdown",
   "metadata": {},
   "source": [
    "# Let's investigate the affairs column"
   ]
  },
  {
   "cell_type": "code",
   "execution_count": 71,
   "metadata": {},
   "outputs": [
    {
     "data": {
      "text/html": [
       "<div>\n",
       "<style scoped>\n",
       "    .dataframe tbody tr th:only-of-type {\n",
       "        vertical-align: middle;\n",
       "    }\n",
       "\n",
       "    .dataframe tbody tr th {\n",
       "        vertical-align: top;\n",
       "    }\n",
       "\n",
       "    .dataframe thead th {\n",
       "        text-align: right;\n",
       "    }\n",
       "</style>\n",
       "<table border=\"1\" class=\"dataframe\">\n",
       "  <thead>\n",
       "    <tr style=\"text-align: right;\">\n",
       "      <th></th>\n",
       "      <th>rate_marriage</th>\n",
       "      <th>age</th>\n",
       "      <th>yrs_married</th>\n",
       "      <th>children</th>\n",
       "      <th>religious</th>\n",
       "      <th>educ</th>\n",
       "      <th>occupation</th>\n",
       "      <th>affairs</th>\n",
       "    </tr>\n",
       "  </thead>\n",
       "  <tbody>\n",
       "    <tr>\n",
       "      <th>0</th>\n",
       "      <td>3</td>\n",
       "      <td>32.0</td>\n",
       "      <td>9.0</td>\n",
       "      <td>3.0</td>\n",
       "      <td>3</td>\n",
       "      <td>17</td>\n",
       "      <td>2</td>\n",
       "      <td>0.111111</td>\n",
       "    </tr>\n",
       "    <tr>\n",
       "      <th>1</th>\n",
       "      <td>3</td>\n",
       "      <td>27.0</td>\n",
       "      <td>13.0</td>\n",
       "      <td>3.0</td>\n",
       "      <td>1</td>\n",
       "      <td>14</td>\n",
       "      <td>3</td>\n",
       "      <td>3.230769</td>\n",
       "    </tr>\n",
       "    <tr>\n",
       "      <th>2</th>\n",
       "      <td>4</td>\n",
       "      <td>22.0</td>\n",
       "      <td>2.5</td>\n",
       "      <td>0.0</td>\n",
       "      <td>1</td>\n",
       "      <td>16</td>\n",
       "      <td>3</td>\n",
       "      <td>1.400000</td>\n",
       "    </tr>\n",
       "    <tr>\n",
       "      <th>3</th>\n",
       "      <td>4</td>\n",
       "      <td>37.0</td>\n",
       "      <td>16.5</td>\n",
       "      <td>4.0</td>\n",
       "      <td>3</td>\n",
       "      <td>16</td>\n",
       "      <td>5</td>\n",
       "      <td>0.727273</td>\n",
       "    </tr>\n",
       "    <tr>\n",
       "      <th>4</th>\n",
       "      <td>5</td>\n",
       "      <td>27.0</td>\n",
       "      <td>9.0</td>\n",
       "      <td>1.0</td>\n",
       "      <td>1</td>\n",
       "      <td>14</td>\n",
       "      <td>3</td>\n",
       "      <td>4.666666</td>\n",
       "    </tr>\n",
       "  </tbody>\n",
       "</table>\n",
       "</div>"
      ],
      "text/plain": [
       "   rate_marriage   age  yrs_married  children  religious  educ  occupation  \\\n",
       "0              3  32.0          9.0       3.0          3    17           2   \n",
       "1              3  27.0         13.0       3.0          1    14           3   \n",
       "2              4  22.0          2.5       0.0          1    16           3   \n",
       "3              4  37.0         16.5       4.0          3    16           5   \n",
       "4              5  27.0          9.0       1.0          1    14           3   \n",
       "\n",
       "    affairs  \n",
       "0  0.111111  \n",
       "1  3.230769  \n",
       "2  1.400000  \n",
       "3  0.727273  \n",
       "4  4.666666  "
      ]
     },
     "execution_count": 71,
     "metadata": {},
     "output_type": "execute_result"
    }
   ],
   "source": [
    "df.head()"
   ]
  },
  {
   "cell_type": "code",
   "execution_count": 72,
   "metadata": {},
   "outputs": [
    {
     "name": "stdout",
     "output_type": "stream",
     "text": [
      "<class 'pandas.core.frame.DataFrame'>\n",
      "Int64Index: 6366 entries, 0 to 6365\n",
      "Data columns (total 8 columns):\n",
      "rate_marriage    6366 non-null int64\n",
      "age              6366 non-null float64\n",
      "yrs_married      6366 non-null float64\n",
      "children         6366 non-null float64\n",
      "religious        6366 non-null int64\n",
      "educ             6366 non-null int64\n",
      "occupation       6366 non-null int64\n",
      "affairs          6366 non-null float64\n",
      "dtypes: float64(4), int64(4)\n",
      "memory usage: 447.6 KB\n"
     ]
    }
   ],
   "source": [
    "df.info()"
   ]
  },
  {
   "cell_type": "code",
   "execution_count": 74,
   "metadata": {},
   "outputs": [
    {
     "data": {
      "text/plain": [
       "rate_marriage    False\n",
       "age              False\n",
       "yrs_married      False\n",
       "children         False\n",
       "religious        False\n",
       "educ             False\n",
       "occupation       False\n",
       "affairs          False\n",
       "dtype: bool"
      ]
     },
     "execution_count": 74,
     "metadata": {},
     "output_type": "execute_result"
    }
   ],
   "source": [
    "df.isna().any()"
   ]
  },
  {
   "cell_type": "code",
   "execution_count": 75,
   "metadata": {},
   "outputs": [],
   "source": [
    "df_affairs=df[df.affairs!=0]"
   ]
  },
  {
   "cell_type": "code",
   "execution_count": 76,
   "metadata": {},
   "outputs": [
    {
     "name": "stdout",
     "output_type": "stream",
     "text": [
      "<class 'pandas.core.frame.DataFrame'>\n",
      "Int64Index: 2053 entries, 0 to 2052\n",
      "Data columns (total 8 columns):\n",
      "rate_marriage    2053 non-null int64\n",
      "age              2053 non-null float64\n",
      "yrs_married      2053 non-null float64\n",
      "children         2053 non-null float64\n",
      "religious        2053 non-null int64\n",
      "educ             2053 non-null int64\n",
      "occupation       2053 non-null int64\n",
      "affairs          2053 non-null float64\n",
      "dtypes: float64(4), int64(4)\n",
      "memory usage: 144.4 KB\n"
     ]
    }
   ],
   "source": [
    "df_affairs.info()"
   ]
  },
  {
   "cell_type": "code",
   "execution_count": 77,
   "metadata": {},
   "outputs": [
    {
     "data": {
      "text/plain": [
       "affairs\n",
       "0.043478    22\n",
       "0.060606    22\n",
       "0.076923    25\n",
       "0.111111    29\n",
       "0.152174    57\n",
       "Name: affairs, dtype: int64"
      ]
     },
     "execution_count": 77,
     "metadata": {},
     "output_type": "execute_result"
    }
   ],
   "source": [
    "df_affairs.groupby('affairs')['affairs'].size().head()"
   ]
  },
  {
   "cell_type": "code",
   "execution_count": 78,
   "metadata": {},
   "outputs": [],
   "source": [
    "df2=df_affairs.copy()"
   ]
  },
  {
   "cell_type": "code",
   "execution_count": 79,
   "metadata": {},
   "outputs": [],
   "source": [
    "df2['hrs']=pd.qcut(df2.affairs, 10)"
   ]
  },
  {
   "cell_type": "code",
   "execution_count": 80,
   "metadata": {},
   "outputs": [
    {
     "data": {
      "text/plain": [
       "<matplotlib.axes._subplots.AxesSubplot at 0x1a197f6160>"
      ]
     },
     "execution_count": 80,
     "metadata": {},
     "output_type": "execute_result"
    },
    {
     "data": {
      "image/png": "[encoded data removed]",
      "text/plain": [
       "<Figure size 432x288 with 1 Axes>"
      ]
     },
     "metadata": {},
     "output_type": "display_data"
    }
   ],
   "source": [
    "sns.countplot(y='hrs', data=df2)"
   ]
  },
  {
   "cell_type": "code",
   "execution_count": 81,
   "metadata": {},
   "outputs": [],
   "source": [
    "df2['hrs-5']=pd.cut(df2.affairs, bins=(0,1,2,5,60))"
   ]
  },
  {
   "cell_type": "code",
   "execution_count": 82,
   "metadata": {},
   "outputs": [
    {
     "data": {
      "text/plain": [
       "<matplotlib.axes._subplots.AxesSubplot at 0x10c8dadd8>"
      ]
     },
     "execution_count": 82,
     "metadata": {},
     "output_type": "execute_result"
    },
    {
     "data": {
      "image/png": "[encoded data removed]",
      "text/plain": [
       "<Figure size 432x288 with 1 Axes>"
      ]
     },
     "metadata": {},
     "output_type": "display_data"
    }
   ],
   "source": [
    "sns.countplot(y='hrs-5', data=df2)"
   ]
  },
  {
   "cell_type": "markdown",
   "metadata": {},
   "source": [
    "# Clean Data"
   ]
  },
  {
   "cell_type": "markdown",
   "metadata": {},
   "source": [
    "Make a binary attribute to indicate cheaters"
   ]
  },
  {
   "cell_type": "code",
   "execution_count": 83,
   "metadata": {},
   "outputs": [],
   "source": [
    "df['affairsBin'] = (df.affairs > 0)*1.0"
   ]
  },
  {
   "cell_type": "code",
   "execution_count": 16,
   "metadata": {},
   "outputs": [
    {
     "data": {
      "text/plain": [
       "0.3224945020420987"
      ]
     },
     "execution_count": 16,
     "metadata": {},
     "output_type": "execute_result"
    }
   ],
   "source": [
    "df.affairsBin.mean()"
   ]
  },
  {
   "cell_type": "markdown",
   "metadata": {},
   "source": [
    "This 32% makes it a very good classification/prediction problem. If it is 99 or 1%, then it will be very hard to predict or the dataset is not good."
   ]
  },
  {
   "cell_type": "code",
   "execution_count": 84,
   "metadata": {},
   "outputs": [
    {
     "data": {
      "text/html": [
       "<div>\n",
       "<style scoped>\n",
       "    .dataframe tbody tr th:only-of-type {\n",
       "        vertical-align: middle;\n",
       "    }\n",
       "\n",
       "    .dataframe tbody tr th {\n",
       "        vertical-align: top;\n",
       "    }\n",
       "\n",
       "    .dataframe thead th {\n",
       "        text-align: right;\n",
       "    }\n",
       "</style>\n",
       "<table border=\"1\" class=\"dataframe\">\n",
       "  <thead>\n",
       "    <tr style=\"text-align: right;\">\n",
       "      <th></th>\n",
       "      <th>rate_marriage</th>\n",
       "      <th>age</th>\n",
       "      <th>yrs_married</th>\n",
       "      <th>children</th>\n",
       "      <th>religious</th>\n",
       "      <th>educ</th>\n",
       "      <th>occupation</th>\n",
       "      <th>affairs</th>\n",
       "      <th>affairsBin</th>\n",
       "    </tr>\n",
       "  </thead>\n",
       "  <tbody>\n",
       "    <tr>\n",
       "      <th>0</th>\n",
       "      <td>3</td>\n",
       "      <td>32.0</td>\n",
       "      <td>9.0</td>\n",
       "      <td>3.0</td>\n",
       "      <td>3</td>\n",
       "      <td>17</td>\n",
       "      <td>2</td>\n",
       "      <td>0.111111</td>\n",
       "      <td>1.0</td>\n",
       "    </tr>\n",
       "    <tr>\n",
       "      <th>1</th>\n",
       "      <td>3</td>\n",
       "      <td>27.0</td>\n",
       "      <td>13.0</td>\n",
       "      <td>3.0</td>\n",
       "      <td>1</td>\n",
       "      <td>14</td>\n",
       "      <td>3</td>\n",
       "      <td>3.230769</td>\n",
       "      <td>1.0</td>\n",
       "    </tr>\n",
       "    <tr>\n",
       "      <th>2</th>\n",
       "      <td>4</td>\n",
       "      <td>22.0</td>\n",
       "      <td>2.5</td>\n",
       "      <td>0.0</td>\n",
       "      <td>1</td>\n",
       "      <td>16</td>\n",
       "      <td>3</td>\n",
       "      <td>1.400000</td>\n",
       "      <td>1.0</td>\n",
       "    </tr>\n",
       "    <tr>\n",
       "      <th>3</th>\n",
       "      <td>4</td>\n",
       "      <td>37.0</td>\n",
       "      <td>16.5</td>\n",
       "      <td>4.0</td>\n",
       "      <td>3</td>\n",
       "      <td>16</td>\n",
       "      <td>5</td>\n",
       "      <td>0.727273</td>\n",
       "      <td>1.0</td>\n",
       "    </tr>\n",
       "    <tr>\n",
       "      <th>4</th>\n",
       "      <td>5</td>\n",
       "      <td>27.0</td>\n",
       "      <td>9.0</td>\n",
       "      <td>1.0</td>\n",
       "      <td>1</td>\n",
       "      <td>14</td>\n",
       "      <td>3</td>\n",
       "      <td>4.666666</td>\n",
       "      <td>1.0</td>\n",
       "    </tr>\n",
       "  </tbody>\n",
       "</table>\n",
       "</div>"
      ],
      "text/plain": [
       "   rate_marriage   age  yrs_married  children  religious  educ  occupation  \\\n",
       "0              3  32.0          9.0       3.0          3    17           2   \n",
       "1              3  27.0         13.0       3.0          1    14           3   \n",
       "2              4  22.0          2.5       0.0          1    16           3   \n",
       "3              4  37.0         16.5       4.0          3    16           5   \n",
       "4              5  27.0          9.0       1.0          1    14           3   \n",
       "\n",
       "    affairs  affairsBin  \n",
       "0  0.111111         1.0  \n",
       "1  3.230769         1.0  \n",
       "2  1.400000         1.0  \n",
       "3  0.727273         1.0  \n",
       "4  4.666666         1.0  "
      ]
     },
     "execution_count": 84,
     "metadata": {},
     "output_type": "execute_result"
    }
   ],
   "source": [
    "df.head()"
   ]
  },
  {
   "cell_type": "code",
   "execution_count": 85,
   "metadata": {},
   "outputs": [
    {
     "name": "stdout",
     "output_type": "stream",
     "text": [
      "<class 'pandas.core.frame.DataFrame'>\n",
      "Int64Index: 6366 entries, 0 to 6365\n",
      "Data columns (total 9 columns):\n",
      "rate_marriage    6366 non-null int64\n",
      "age              6366 non-null float64\n",
      "yrs_married      6366 non-null float64\n",
      "children         6366 non-null float64\n",
      "religious        6366 non-null int64\n",
      "educ             6366 non-null int64\n",
      "occupation       6366 non-null int64\n",
      "affairs          6366 non-null float64\n",
      "affairsBin       6366 non-null float64\n",
      "dtypes: float64(5), int64(4)\n",
      "memory usage: 497.3 KB\n"
     ]
    }
   ],
   "source": [
    "df.info()"
   ]
  },
  {
   "cell_type": "markdown",
   "metadata": {},
   "source": [
    "Occupation is a unique set of number, Let's make dummy variable for occupation"
   ]
  },
  {
   "cell_type": "code",
   "execution_count": 86,
   "metadata": {},
   "outputs": [
    {
     "data": {
      "text/plain": [
       "array([2, 3, 5, 4, 1, 6])"
      ]
     },
     "execution_count": 86,
     "metadata": {},
     "output_type": "execute_result"
    }
   ],
   "source": [
    "df.occupation.unique()"
   ]
  },
  {
   "cell_type": "code",
   "execution_count": 87,
   "metadata": {},
   "outputs": [],
   "source": [
    "df = pd.get_dummies(df,columns=['occupation'])"
   ]
  },
  {
   "cell_type": "code",
   "execution_count": 88,
   "metadata": {},
   "outputs": [
    {
     "data": {
      "text/html": [
       "<div>\n",
       "<style scoped>\n",
       "    .dataframe tbody tr th:only-of-type {\n",
       "        vertical-align: middle;\n",
       "    }\n",
       "\n",
       "    .dataframe tbody tr th {\n",
       "        vertical-align: top;\n",
       "    }\n",
       "\n",
       "    .dataframe thead th {\n",
       "        text-align: right;\n",
       "    }\n",
       "</style>\n",
       "<table border=\"1\" class=\"dataframe\">\n",
       "  <thead>\n",
       "    <tr style=\"text-align: right;\">\n",
       "      <th></th>\n",
       "      <th>rate_marriage</th>\n",
       "      <th>age</th>\n",
       "      <th>yrs_married</th>\n",
       "      <th>children</th>\n",
       "      <th>religious</th>\n",
       "      <th>educ</th>\n",
       "      <th>affairs</th>\n",
       "      <th>affairsBin</th>\n",
       "      <th>occupation_1</th>\n",
       "      <th>occupation_2</th>\n",
       "      <th>occupation_3</th>\n",
       "      <th>occupation_4</th>\n",
       "      <th>occupation_5</th>\n",
       "      <th>occupation_6</th>\n",
       "    </tr>\n",
       "  </thead>\n",
       "  <tbody>\n",
       "    <tr>\n",
       "      <th>0</th>\n",
       "      <td>3</td>\n",
       "      <td>32.0</td>\n",
       "      <td>9.0</td>\n",
       "      <td>3.0</td>\n",
       "      <td>3</td>\n",
       "      <td>17</td>\n",
       "      <td>0.111111</td>\n",
       "      <td>1.0</td>\n",
       "      <td>0</td>\n",
       "      <td>1</td>\n",
       "      <td>0</td>\n",
       "      <td>0</td>\n",
       "      <td>0</td>\n",
       "      <td>0</td>\n",
       "    </tr>\n",
       "    <tr>\n",
       "      <th>1</th>\n",
       "      <td>3</td>\n",
       "      <td>27.0</td>\n",
       "      <td>13.0</td>\n",
       "      <td>3.0</td>\n",
       "      <td>1</td>\n",
       "      <td>14</td>\n",
       "      <td>3.230769</td>\n",
       "      <td>1.0</td>\n",
       "      <td>0</td>\n",
       "      <td>0</td>\n",
       "      <td>1</td>\n",
       "      <td>0</td>\n",
       "      <td>0</td>\n",
       "      <td>0</td>\n",
       "    </tr>\n",
       "    <tr>\n",
       "      <th>2</th>\n",
       "      <td>4</td>\n",
       "      <td>22.0</td>\n",
       "      <td>2.5</td>\n",
       "      <td>0.0</td>\n",
       "      <td>1</td>\n",
       "      <td>16</td>\n",
       "      <td>1.400000</td>\n",
       "      <td>1.0</td>\n",
       "      <td>0</td>\n",
       "      <td>0</td>\n",
       "      <td>1</td>\n",
       "      <td>0</td>\n",
       "      <td>0</td>\n",
       "      <td>0</td>\n",
       "    </tr>\n",
       "    <tr>\n",
       "      <th>3</th>\n",
       "      <td>4</td>\n",
       "      <td>37.0</td>\n",
       "      <td>16.5</td>\n",
       "      <td>4.0</td>\n",
       "      <td>3</td>\n",
       "      <td>16</td>\n",
       "      <td>0.727273</td>\n",
       "      <td>1.0</td>\n",
       "      <td>0</td>\n",
       "      <td>0</td>\n",
       "      <td>0</td>\n",
       "      <td>0</td>\n",
       "      <td>1</td>\n",
       "      <td>0</td>\n",
       "    </tr>\n",
       "    <tr>\n",
       "      <th>4</th>\n",
       "      <td>5</td>\n",
       "      <td>27.0</td>\n",
       "      <td>9.0</td>\n",
       "      <td>1.0</td>\n",
       "      <td>1</td>\n",
       "      <td>14</td>\n",
       "      <td>4.666666</td>\n",
       "      <td>1.0</td>\n",
       "      <td>0</td>\n",
       "      <td>0</td>\n",
       "      <td>1</td>\n",
       "      <td>0</td>\n",
       "      <td>0</td>\n",
       "      <td>0</td>\n",
       "    </tr>\n",
       "  </tbody>\n",
       "</table>\n",
       "</div>"
      ],
      "text/plain": [
       "   rate_marriage   age  yrs_married  children  religious  educ   affairs  \\\n",
       "0              3  32.0          9.0       3.0          3    17  0.111111   \n",
       "1              3  27.0         13.0       3.0          1    14  3.230769   \n",
       "2              4  22.0          2.5       0.0          1    16  1.400000   \n",
       "3              4  37.0         16.5       4.0          3    16  0.727273   \n",
       "4              5  27.0          9.0       1.0          1    14  4.666666   \n",
       "\n",
       "   affairsBin  occupation_1  occupation_2  occupation_3  occupation_4  \\\n",
       "0         1.0             0             1             0             0   \n",
       "1         1.0             0             0             1             0   \n",
       "2         1.0             0             0             1             0   \n",
       "3         1.0             0             0             0             0   \n",
       "4         1.0             0             0             1             0   \n",
       "\n",
       "   occupation_5  occupation_6  \n",
       "0             0             0  \n",
       "1             0             0  \n",
       "2             0             0  \n",
       "3             1             0  \n",
       "4             0             0  "
      ]
     },
     "execution_count": 88,
     "metadata": {},
     "output_type": "execute_result"
    }
   ],
   "source": [
    "df.head()"
   ]
  },
  {
   "cell_type": "markdown",
   "metadata": {},
   "source": [
    "Make X and Y"
   ]
  },
  {
   "cell_type": "code",
   "execution_count": 89,
   "metadata": {},
   "outputs": [],
   "source": [
    "X = df.drop(['affairsBin','affairs'],axis=1)"
   ]
  },
  {
   "cell_type": "code",
   "execution_count": 90,
   "metadata": {},
   "outputs": [],
   "source": [
    "Y = df.affairsBin"
   ]
  },
  {
   "cell_type": "markdown",
   "metadata": {},
   "source": [
    "# Hold-out sample"
   ]
  },
  {
   "cell_type": "markdown",
   "metadata": {},
   "source": [
    "Split the data into 70% training and 30% test"
   ]
  },
  {
   "cell_type": "code",
   "execution_count": 91,
   "metadata": {},
   "outputs": [],
   "source": [
    "from sklearn.model_selection import train_test_split"
   ]
  },
  {
   "cell_type": "code",
   "execution_count": 93,
   "metadata": {},
   "outputs": [
    {
     "data": {
      "text/plain": [
       "[      rate_marriage   age  yrs_married  children  religious  educ  \\\n",
       " 2411              5  27.0          6.0       1.0          2    16   \n",
       " 4083              4  42.0         23.0       4.0          3    14   \n",
       " 3196              5  37.0         23.0       4.0          2    14   \n",
       " 3035              5  22.0          2.5       0.0          2    12   \n",
       " 1772              3  22.0          2.5       0.0          3    14   \n",
       " 5880              2  27.0          2.5       1.0          2    14   \n",
       " 1237              3  32.0         16.5       4.0          2    12   \n",
       " 1850              4  32.0         13.0       2.0          2    14   \n",
       " 507               5  27.0          9.0       1.0          3    14   \n",
       " 4809              5  32.0         16.5       3.0          1    14   \n",
       " 88                3  42.0         23.0       2.0          2    12   \n",
       " 2809              5  27.0          6.0       2.0          2    17   \n",
       " 4609              4  32.0         13.0       2.0          4    14   \n",
       " 470               2  42.0         23.0       5.5          3    17   \n",
       " 5679              5  32.0          2.5       1.0          1    14   \n",
       " 2355              5  32.0          2.5       0.0          3    14   \n",
       " 3359              5  32.0         16.5       2.0          1    14   \n",
       " 5482              4  27.0          6.0       1.0          1    14   \n",
       " 5373              4  27.0          6.0       0.0          2    14   \n",
       " 2270              5  32.0         16.5       2.0          3    12   \n",
       " 9                 3  27.0          6.0       0.0          1    16   \n",
       " 439               3  32.0         16.5       3.0          2    12   \n",
       " 5264              5  32.0         16.5       2.0          3    12   \n",
       " 4629              5  27.0         13.0       2.0          2    14   \n",
       " 3037              4  22.0          2.5       0.0          2    12   \n",
       " 3890              5  17.5          0.5       0.0          3    12   \n",
       " 4958              4  37.0         13.0       1.0          4    20   \n",
       " 1082              4  32.0         13.0       1.0          3    20   \n",
       " 34                5  42.0         16.5       4.0          3    16   \n",
       " 5269              5  27.0          6.0       0.0          2    16   \n",
       " ...             ...   ...          ...       ...        ...   ...   \n",
       " 2008              4  27.0          9.0       2.0          2    16   \n",
       " 99                4  27.0          2.5       1.0          2    12   \n",
       " 2496              5  27.0          6.0       1.0          3    20   \n",
       " 1871              3  22.0          2.5       0.0          3    16   \n",
       " 2046              3  27.0          6.0       0.0          1    12   \n",
       " 4851              5  17.5          2.5       0.0          4    12   \n",
       " 5072              5  22.0          2.5       2.0          1    16   \n",
       " 2163              3  22.0          2.5       0.0          2    14   \n",
       " 6036              5  22.0          2.5       0.0          3    14   \n",
       " 6216              4  27.0          6.0       0.0          2    14   \n",
       " 2893              5  22.0          0.5       0.0          2    16   \n",
       " 537               2  37.0         23.0       4.0          2    12   \n",
       " 1701              4  27.0          6.0       0.0          3    14   \n",
       " 2897              5  27.0          6.0       0.0          2    20   \n",
       " 2222              5  42.0         23.0       3.0          3    14   \n",
       " 2135              5  32.0          9.0       2.0          3    16   \n",
       " 2599              5  32.0         16.5       2.0          1    12   \n",
       " 705               4  27.0          2.5       0.0          2    14   \n",
       " 3468              5  32.0         13.0       2.0          2    16   \n",
       " 5924              4  22.0          2.5       0.0          3    14   \n",
       " 5874              5  22.0          2.5       0.0          3    12   \n",
       " 4373              5  27.0          2.5       0.0          1    20   \n",
       " 1033              5  27.0          6.0       1.0          2    14   \n",
       " 5827              3  27.0          9.0       2.0          2    14   \n",
       " 4859              4  27.0          2.5       0.0          2    16   \n",
       " 4931              3  27.0          2.5       1.0          2    14   \n",
       " 3264              4  17.5          0.5       0.0          2    12   \n",
       " 1653              3  22.0          2.5       0.0          2    14   \n",
       " 2607              5  22.0          0.5       0.0          2    14   \n",
       " 2732              4  22.0          2.5       0.0          1    12   \n",
       " \n",
       "       occupation_1  occupation_2  occupation_3  occupation_4  occupation_5  \\\n",
       " 2411             0             1             0             0             0   \n",
       " 4083             0             0             1             0             0   \n",
       " 3196             0             0             1             0             0   \n",
       " 3035             0             0             1             0             0   \n",
       " 1772             0             0             0             0             1   \n",
       " 5880             0             0             1             0             0   \n",
       " 1237             0             0             1             0             0   \n",
       " 1850             0             0             0             0             1   \n",
       " 507              0             0             1             0             0   \n",
       " 4809             0             0             0             1             0   \n",
       " 88               0             1             0             0             0   \n",
       " 2809             0             0             0             1             0   \n",
       " 4609             0             0             1             0             0   \n",
       " 470              0             0             0             1             0   \n",
       " 5679             0             0             0             1             0   \n",
       " 2355             0             0             1             0             0   \n",
       " 3359             0             0             0             1             0   \n",
       " 5482             0             0             1             0             0   \n",
       " 5373             0             1             0             0             0   \n",
       " 2270             0             0             1             0             0   \n",
       " 9                0             0             1             0             0   \n",
       " 439              0             1             0             0             0   \n",
       " 5264             0             0             1             0             0   \n",
       " 4629             0             1             0             0             0   \n",
       " 3037             0             0             1             0             0   \n",
       " 3890             0             0             1             0             0   \n",
       " 4958             0             0             0             0             0   \n",
       " 1082             0             1             0             0             0   \n",
       " 34               0             0             0             1             0   \n",
       " 5269             0             0             1             0             0   \n",
       " ...            ...           ...           ...           ...           ...   \n",
       " 2008             0             0             0             1             0   \n",
       " 99               0             0             0             0             1   \n",
       " 2496             0             0             0             1             0   \n",
       " 1871             0             0             0             1             0   \n",
       " 2046             0             0             1             0             0   \n",
       " 4851             0             0             1             0             0   \n",
       " 5072             0             0             1             0             0   \n",
       " 2163             0             0             1             0             0   \n",
       " 6036             0             1             0             0             0   \n",
       " 6216             0             0             1             0             0   \n",
       " 2893             0             0             1             0             0   \n",
       " 537              0             0             0             0             1   \n",
       " 1701             0             0             1             0             0   \n",
       " 2897             0             0             0             1             0   \n",
       " 2222             0             0             1             0             0   \n",
       " 2135             0             0             0             1             0   \n",
       " 2599             0             1             0             0             0   \n",
       " 705              0             0             0             0             1   \n",
       " 3468             0             0             0             1             0   \n",
       " 5924             0             0             0             1             0   \n",
       " 5874             0             0             1             0             0   \n",
       " 4373             0             0             0             0             1   \n",
       " 1033             0             0             0             1             0   \n",
       " 5827             0             0             1             0             0   \n",
       " 4859             0             0             0             1             0   \n",
       " 4931             0             1             0             0             0   \n",
       " 3264             0             1             0             0             0   \n",
       " 1653             0             0             1             0             0   \n",
       " 2607             0             0             1             0             0   \n",
       " 2732             0             0             1             0             0   \n",
       " \n",
       "       occupation_6  \n",
       " 2411             0  \n",
       " 4083             0  \n",
       " 3196             0  \n",
       " 3035             0  \n",
       " 1772             0  \n",
       " 5880             0  \n",
       " 1237             0  \n",
       " 1850             0  \n",
       " 507              0  \n",
       " 4809             0  \n",
       " 88               0  \n",
       " 2809             0  \n",
       " 4609             0  \n",
       " 470              0  \n",
       " 5679             0  \n",
       " 2355             0  \n",
       " 3359             0  \n",
       " 5482             0  \n",
       " 5373             0  \n",
       " 2270             0  \n",
       " 9                0  \n",
       " 439              0  \n",
       " 5264             0  \n",
       " 4629             0  \n",
       " 3037             0  \n",
       " 3890             0  \n",
       " 4958             1  \n",
       " 1082             0  \n",
       " 34               0  \n",
       " 5269             0  \n",
       " ...            ...  \n",
       " 2008             0  \n",
       " 99               0  \n",
       " 2496             0  \n",
       " 1871             0  \n",
       " 2046             0  \n",
       " 4851             0  \n",
       " 5072             0  \n",
       " 2163             0  \n",
       " 6036             0  \n",
       " 6216             0  \n",
       " 2893             0  \n",
       " 537              0  \n",
       " 1701             0  \n",
       " 2897             0  \n",
       " 2222             0  \n",
       " 2135             0  \n",
       " 2599             0  \n",
       " 705              0  \n",
       " 3468             0  \n",
       " 5924             0  \n",
       " 5874             0  \n",
       " 4373             0  \n",
       " 1033             0  \n",
       " 5827             0  \n",
       " 4859             0  \n",
       " 4931             0  \n",
       " 3264             0  \n",
       " 1653             0  \n",
       " 2607             0  \n",
       " 2732             0  \n",
       " \n",
       " [4456 rows x 12 columns],\n",
       "       rate_marriage   age  yrs_married  children  religious  educ  \\\n",
       " 2764              3  27.0          9.0       2.0          1    14   \n",
       " 4481              5  22.0          2.5       0.0          4    16   \n",
       " 5360              4  27.0          6.0       0.0          2    17   \n",
       " 5802              5  42.0         23.0       2.0          3    17   \n",
       " 1220              4  27.0          6.0       1.0          3    14   \n",
       " 5812              5  42.0         23.0       4.0          4    14   \n",
       " 3719              4  32.0          6.0       0.0          3    17   \n",
       " 3848              4  32.0          9.0       2.0          3    14   \n",
       " 1865              3  32.0         16.5       4.0          1    12   \n",
       " 2535              4  42.0         23.0       2.0          4    12   \n",
       " 2505              5  27.0          6.0       2.0          3    16   \n",
       " 6273              5  27.0          6.0       0.0          2    16   \n",
       " 3710              5  27.0          2.5       0.0          3    16   \n",
       " 4229              4  22.0          2.5       0.0          3    14   \n",
       " 1262              2  22.0          2.5       0.0          1    14   \n",
       " 5321              4  42.0         23.0       2.0          2    14   \n",
       " 3790              5  17.5          2.5       0.0          1    12   \n",
       " 994               2  22.0          6.0       1.0          2    14   \n",
       " 5644              5  37.0         16.5       2.0          1    12   \n",
       " 2252              5  32.0          9.0       2.0          2    16   \n",
       " 1804              4  27.0          6.0       2.0          3    16   \n",
       " 861               4  37.0         16.5       3.0          3    12   \n",
       " 1601              5  22.0          2.5       0.0          4    14   \n",
       " 1718              4  22.0          6.0       1.0          1    12   \n",
       " 2976              5  22.0          2.5       0.0          3    14   \n",
       " 3603              5  37.0         16.5       5.5          3    12   \n",
       " 4130              3  27.0          9.0       3.0          3    12   \n",
       " 5824              5  42.0         23.0       3.0          3    14   \n",
       " 5901              4  27.0          2.5       0.0          2    12   \n",
       " 4408              5  27.0          6.0       1.0          1    16   \n",
       " ...             ...   ...          ...       ...        ...   ...   \n",
       " 5615              5  17.5          0.5       0.0          1    14   \n",
       " 1737              4  32.0         13.0       2.0          1    14   \n",
       " 2701              5  22.0          2.5       0.0          1    12   \n",
       " 4024              3  22.0          0.5       0.0          2    14   \n",
       " 1012              5  22.0          2.5       1.0          3    14   \n",
       " 3888              5  22.0          2.5       0.0          2    16   \n",
       " 4746              4  27.0          2.5       0.0          3    12   \n",
       " 5607              5  22.0          2.5       0.0          3    16   \n",
       " 1946              2  42.0         23.0       4.0          2    12   \n",
       " 3119              4  32.0          2.5       0.0          3    17   \n",
       " 156               3  32.0         16.5       3.0          3    12   \n",
       " 1752              3  42.0         23.0       4.0          2    12   \n",
       " 624               3  42.0         23.0       5.5          3    14   \n",
       " 4622              4  27.0          6.0       0.0          1    20   \n",
       " 1788              3  42.0         23.0       5.5          2    20   \n",
       " 500               4  27.0          6.0       2.0          2    12   \n",
       " 726               4  37.0         13.0       2.0          3    17   \n",
       " 4162              5  22.0          2.5       0.0          4    16   \n",
       " 48                5  32.0         13.0       3.0          3    14   \n",
       " 1691              3  27.0          9.0       3.0          2    12   \n",
       " 5882              4  32.0          6.0       1.0          3    14   \n",
       " 2244              4  22.0          2.5       0.0          1    16   \n",
       " 1985              1  37.0         16.5       3.0          2    14   \n",
       " 2853              4  22.0          2.5       0.0          3    14   \n",
       " 18                2  42.0         23.0       2.0          2    20   \n",
       " 3053              5  22.0          2.5       1.0          3    12   \n",
       " 1875              5  37.0         16.5       2.0          3    14   \n",
       " 5851              3  27.0          6.0       0.0          2    20   \n",
       " 4962              5  22.0          2.5       0.0          1    12   \n",
       " 1995              4  27.0          6.0       1.0          3    14   \n",
       " \n",
       "       occupation_1  occupation_2  occupation_3  occupation_4  occupation_5  \\\n",
       " 2764             0             0             1             0             0   \n",
       " 4481             0             0             1             0             0   \n",
       " 5360             0             0             0             1             0   \n",
       " 5802             0             0             0             1             0   \n",
       " 1220             0             0             1             0             0   \n",
       " 5812             0             0             0             1             0   \n",
       " 3719             0             1             0             0             0   \n",
       " 3848             0             1             0             0             0   \n",
       " 1865             0             0             1             0             0   \n",
       " 2535             0             0             0             1             0   \n",
       " 2505             0             0             0             1             0   \n",
       " 6273             0             0             1             0             0   \n",
       " 3710             0             0             0             1             0   \n",
       " 4229             0             0             0             0             1   \n",
       " 1262             0             0             1             0             0   \n",
       " 5321             0             0             1             0             0   \n",
       " 3790             0             0             1             0             0   \n",
       " 994              0             0             1             0             0   \n",
       " 5644             0             1             0             0             0   \n",
       " 2252             0             0             0             1             0   \n",
       " 1804             0             0             0             1             0   \n",
       " 861              0             0             0             0             1   \n",
       " 1601             0             0             1             0             0   \n",
       " 1718             0             0             1             0             0   \n",
       " 2976             0             0             0             0             1   \n",
       " 3603             0             1             0             0             0   \n",
       " 4130             0             1             0             0             0   \n",
       " 5824             0             0             0             0             1   \n",
       " 5901             0             0             1             0             0   \n",
       " 4408             1             0             0             0             0   \n",
       " ...            ...           ...           ...           ...           ...   \n",
       " 5615             0             0             1             0             0   \n",
       " 1737             0             0             1             0             0   \n",
       " 2701             0             1             0             0             0   \n",
       " 4024             0             0             1             0             0   \n",
       " 1012             0             0             1             0             0   \n",
       " 3888             0             0             0             1             0   \n",
       " 4746             0             0             1             0             0   \n",
       " 5607             0             0             1             0             0   \n",
       " 1946             0             0             0             0             1   \n",
       " 3119             0             0             0             1             0   \n",
       " 156              0             0             1             0             0   \n",
       " 1752             0             0             0             1             0   \n",
       " 624              0             0             1             0             0   \n",
       " 4622             0             0             0             0             0   \n",
       " 1788             0             0             0             1             0   \n",
       " 500              0             1             0             0             0   \n",
       " 726              0             0             0             1             0   \n",
       " 4162             0             0             1             0             0   \n",
       " 48               0             0             0             1             0   \n",
       " 1691             0             0             1             0             0   \n",
       " 5882             0             0             0             1             0   \n",
       " 2244             0             0             1             0             0   \n",
       " 1985             0             0             0             1             0   \n",
       " 2853             0             0             1             0             0   \n",
       " 18               0             0             0             1             0   \n",
       " 3053             0             0             1             0             0   \n",
       " 1875             0             0             1             0             0   \n",
       " 5851             0             0             0             1             0   \n",
       " 4962             0             1             0             0             0   \n",
       " 1995             0             0             1             0             0   \n",
       " \n",
       "       occupation_6  \n",
       " 2764             0  \n",
       " 4481             0  \n",
       " 5360             0  \n",
       " 5802             0  \n",
       " 1220             0  \n",
       " 5812             0  \n",
       " 3719             0  \n",
       " 3848             0  \n",
       " 1865             0  \n",
       " 2535             0  \n",
       " 2505             0  \n",
       " 6273             0  \n",
       " 3710             0  \n",
       " 4229             0  \n",
       " 1262             0  \n",
       " 5321             0  \n",
       " 3790             0  \n",
       " 994              0  \n",
       " 5644             0  \n",
       " 2252             0  \n",
       " 1804             0  \n",
       " 861              0  \n",
       " 1601             0  \n",
       " 1718             0  \n",
       " 2976             0  \n",
       " 3603             0  \n",
       " 4130             0  \n",
       " 5824             0  \n",
       " 5901             0  \n",
       " 4408             0  \n",
       " ...            ...  \n",
       " 5615             0  \n",
       " 1737             0  \n",
       " 2701             0  \n",
       " 4024             0  \n",
       " 1012             0  \n",
       " 3888             0  \n",
       " 4746             0  \n",
       " 5607             0  \n",
       " 1946             0  \n",
       " 3119             0  \n",
       " 156              0  \n",
       " 1752             0  \n",
       " 624              0  \n",
       " 4622             1  \n",
       " 1788             0  \n",
       " 500              0  \n",
       " 726              0  \n",
       " 4162             0  \n",
       " 48               0  \n",
       " 1691             0  \n",
       " 5882             0  \n",
       " 2244             0  \n",
       " 1985             0  \n",
       " 2853             0  \n",
       " 18               0  \n",
       " 3053             0  \n",
       " 1875             0  \n",
       " 5851             0  \n",
       " 4962             0  \n",
       " 1995             0  \n",
       " \n",
       " [1910 rows x 12 columns],\n",
       " 2411    0.0\n",
       " 4083    0.0\n",
       " 3196    0.0\n",
       " 3035    0.0\n",
       " 1772    1.0\n",
       " 5880    0.0\n",
       " 1237    1.0\n",
       " 1850    1.0\n",
       " 507     1.0\n",
       " 4809    0.0\n",
       " 88      1.0\n",
       " 2809    0.0\n",
       " 4609    0.0\n",
       " 470     1.0\n",
       " 5679    0.0\n",
       " 2355    0.0\n",
       " 3359    0.0\n",
       " 5482    0.0\n",
       " 5373    0.0\n",
       " 2270    0.0\n",
       " 9       1.0\n",
       " 439     1.0\n",
       " 5264    0.0\n",
       " 4629    0.0\n",
       " 3037    0.0\n",
       " 3890    0.0\n",
       " 4958    0.0\n",
       " 1082    1.0\n",
       " 34      1.0\n",
       " 5269    0.0\n",
       "        ... \n",
       " 2008    1.0\n",
       " 99      1.0\n",
       " 2496    0.0\n",
       " 1871    1.0\n",
       " 2046    1.0\n",
       " 4851    0.0\n",
       " 5072    0.0\n",
       " 2163    0.0\n",
       " 6036    0.0\n",
       " 6216    0.0\n",
       " 2893    0.0\n",
       " 537     1.0\n",
       " 1701    1.0\n",
       " 2897    0.0\n",
       " 2222    0.0\n",
       " 2135    0.0\n",
       " 2599    0.0\n",
       " 705     1.0\n",
       " 3468    0.0\n",
       " 5924    0.0\n",
       " 5874    0.0\n",
       " 4373    0.0\n",
       " 1033    1.0\n",
       " 5827    0.0\n",
       " 4859    0.0\n",
       " 4931    0.0\n",
       " 3264    0.0\n",
       " 1653    1.0\n",
       " 2607    0.0\n",
       " 2732    0.0\n",
       " Name: affairsBin, Length: 4456, dtype: float64,\n",
       " 2764    0.0\n",
       " 4481    0.0\n",
       " 5360    0.0\n",
       " 5802    0.0\n",
       " 1220    1.0\n",
       " 5812    0.0\n",
       " 3719    0.0\n",
       " 3848    0.0\n",
       " 1865    1.0\n",
       " 2535    0.0\n",
       " 2505    0.0\n",
       " 6273    0.0\n",
       " 3710    0.0\n",
       " 4229    0.0\n",
       " 1262    1.0\n",
       " 5321    0.0\n",
       " 3790    0.0\n",
       " 994     1.0\n",
       " 5644    0.0\n",
       " 2252    0.0\n",
       " 1804    1.0\n",
       " 861     1.0\n",
       " 1601    1.0\n",
       " 1718    1.0\n",
       " 2976    0.0\n",
       " 3603    0.0\n",
       " 4130    0.0\n",
       " 5824    0.0\n",
       " 5901    0.0\n",
       " 4408    0.0\n",
       "        ... \n",
       " 5615    0.0\n",
       " 1737    1.0\n",
       " 2701    0.0\n",
       " 4024    0.0\n",
       " 1012    1.0\n",
       " 3888    0.0\n",
       " 4746    0.0\n",
       " 5607    0.0\n",
       " 1946    1.0\n",
       " 3119    0.0\n",
       " 156     1.0\n",
       " 1752    1.0\n",
       " 624     1.0\n",
       " 4622    0.0\n",
       " 1788    1.0\n",
       " 500     1.0\n",
       " 726     1.0\n",
       " 4162    0.0\n",
       " 48      1.0\n",
       " 1691    1.0\n",
       " 5882    0.0\n",
       " 2244    0.0\n",
       " 1985    1.0\n",
       " 2853    0.0\n",
       " 18      1.0\n",
       " 3053    0.0\n",
       " 1875    1.0\n",
       " 5851    0.0\n",
       " 4962    0.0\n",
       " 1995    1.0\n",
       " Name: affairsBin, Length: 1910, dtype: float64]"
      ]
     },
     "execution_count": 93,
     "metadata": {},
     "output_type": "execute_result"
    }
   ],
   "source": [
    "train_test_split(X,Y,test_size=0.3,random_state = 0)"
   ]
  },
  {
   "cell_type": "markdown",
   "metadata": {},
   "source": [
    "This method train_test_split() return 4 things :"
   ]
  },
  {
   "cell_type": "code",
   "execution_count": 94,
   "metadata": {},
   "outputs": [],
   "source": [
    "X_train, X_test, Y_train, Y_test = \\\n",
    "train_test_split(X,Y,test_size=0.3,random_state = 0)"
   ]
  },
  {
   "cell_type": "code",
   "execution_count": 95,
   "metadata": {},
   "outputs": [
    {
     "data": {
      "text/plain": [
       "6366"
      ]
     },
     "execution_count": 95,
     "metadata": {},
     "output_type": "execute_result"
    }
   ],
   "source": [
    "len(X)"
   ]
  },
  {
   "cell_type": "code",
   "execution_count": 96,
   "metadata": {},
   "outputs": [
    {
     "data": {
      "text/plain": [
       "pandas.core.frame.DataFrame"
      ]
     },
     "execution_count": 96,
     "metadata": {},
     "output_type": "execute_result"
    }
   ],
   "source": [
    "type(X)"
   ]
  },
  {
   "cell_type": "code",
   "execution_count": 97,
   "metadata": {},
   "outputs": [
    {
     "data": {
      "text/plain": [
       "pandas.core.frame.DataFrame"
      ]
     },
     "execution_count": 97,
     "metadata": {},
     "output_type": "execute_result"
    }
   ],
   "source": [
    "type(X_train)"
   ]
  },
  {
   "cell_type": "code",
   "execution_count": 98,
   "metadata": {},
   "outputs": [
    {
     "data": {
      "text/plain": [
       "0.6999685830977066"
      ]
     },
     "execution_count": 98,
     "metadata": {},
     "output_type": "execute_result"
    }
   ],
   "source": [
    "len(X_train)/len(X)"
   ]
  },
  {
   "cell_type": "code",
   "execution_count": 99,
   "metadata": {},
   "outputs": [
    {
     "data": {
      "text/plain": [
       "0.30003141690229346"
      ]
     },
     "execution_count": 99,
     "metadata": {},
     "output_type": "execute_result"
    }
   ],
   "source": [
    "len(X_test)/len(X)"
   ]
  },
  {
   "cell_type": "code",
   "execution_count": 100,
   "metadata": {},
   "outputs": [
    {
     "data": {
      "text/plain": [
       "True"
      ]
     },
     "execution_count": 100,
     "metadata": {},
     "output_type": "execute_result"
    }
   ],
   "source": [
    "(len(X_train) + len(X_test)) == len(X)"
   ]
  },
  {
   "cell_type": "code",
   "execution_count": 101,
   "metadata": {},
   "outputs": [
    {
     "data": {
      "text/html": [
       "<div>\n",
       "<style scoped>\n",
       "    .dataframe tbody tr th:only-of-type {\n",
       "        vertical-align: middle;\n",
       "    }\n",
       "\n",
       "    .dataframe tbody tr th {\n",
       "        vertical-align: top;\n",
       "    }\n",
       "\n",
       "    .dataframe thead th {\n",
       "        text-align: right;\n",
       "    }\n",
       "</style>\n",
       "<table border=\"1\" class=\"dataframe\">\n",
       "  <thead>\n",
       "    <tr style=\"text-align: right;\">\n",
       "      <th></th>\n",
       "      <th>rate_marriage</th>\n",
       "      <th>age</th>\n",
       "      <th>yrs_married</th>\n",
       "      <th>children</th>\n",
       "      <th>religious</th>\n",
       "      <th>educ</th>\n",
       "      <th>occupation_1</th>\n",
       "      <th>occupation_2</th>\n",
       "      <th>occupation_3</th>\n",
       "      <th>occupation_4</th>\n",
       "      <th>occupation_5</th>\n",
       "      <th>occupation_6</th>\n",
       "    </tr>\n",
       "  </thead>\n",
       "  <tbody>\n",
       "    <tr>\n",
       "      <th>2411</th>\n",
       "      <td>5</td>\n",
       "      <td>27.0</td>\n",
       "      <td>6.0</td>\n",
       "      <td>1.0</td>\n",
       "      <td>2</td>\n",
       "      <td>16</td>\n",
       "      <td>0</td>\n",
       "      <td>1</td>\n",
       "      <td>0</td>\n",
       "      <td>0</td>\n",
       "      <td>0</td>\n",
       "      <td>0</td>\n",
       "    </tr>\n",
       "    <tr>\n",
       "      <th>4083</th>\n",
       "      <td>4</td>\n",
       "      <td>42.0</td>\n",
       "      <td>23.0</td>\n",
       "      <td>4.0</td>\n",
       "      <td>3</td>\n",
       "      <td>14</td>\n",
       "      <td>0</td>\n",
       "      <td>0</td>\n",
       "      <td>1</td>\n",
       "      <td>0</td>\n",
       "      <td>0</td>\n",
       "      <td>0</td>\n",
       "    </tr>\n",
       "    <tr>\n",
       "      <th>3196</th>\n",
       "      <td>5</td>\n",
       "      <td>37.0</td>\n",
       "      <td>23.0</td>\n",
       "      <td>4.0</td>\n",
       "      <td>2</td>\n",
       "      <td>14</td>\n",
       "      <td>0</td>\n",
       "      <td>0</td>\n",
       "      <td>1</td>\n",
       "      <td>0</td>\n",
       "      <td>0</td>\n",
       "      <td>0</td>\n",
       "    </tr>\n",
       "    <tr>\n",
       "      <th>3035</th>\n",
       "      <td>5</td>\n",
       "      <td>22.0</td>\n",
       "      <td>2.5</td>\n",
       "      <td>0.0</td>\n",
       "      <td>2</td>\n",
       "      <td>12</td>\n",
       "      <td>0</td>\n",
       "      <td>0</td>\n",
       "      <td>1</td>\n",
       "      <td>0</td>\n",
       "      <td>0</td>\n",
       "      <td>0</td>\n",
       "    </tr>\n",
       "    <tr>\n",
       "      <th>1772</th>\n",
       "      <td>3</td>\n",
       "      <td>22.0</td>\n",
       "      <td>2.5</td>\n",
       "      <td>0.0</td>\n",
       "      <td>3</td>\n",
       "      <td>14</td>\n",
       "      <td>0</td>\n",
       "      <td>0</td>\n",
       "      <td>0</td>\n",
       "      <td>0</td>\n",
       "      <td>1</td>\n",
       "      <td>0</td>\n",
       "    </tr>\n",
       "  </tbody>\n",
       "</table>\n",
       "</div>"
      ],
      "text/plain": [
       "      rate_marriage   age  yrs_married  children  religious  educ  \\\n",
       "2411              5  27.0          6.0       1.0          2    16   \n",
       "4083              4  42.0         23.0       4.0          3    14   \n",
       "3196              5  37.0         23.0       4.0          2    14   \n",
       "3035              5  22.0          2.5       0.0          2    12   \n",
       "1772              3  22.0          2.5       0.0          3    14   \n",
       "\n",
       "      occupation_1  occupation_2  occupation_3  occupation_4  occupation_5  \\\n",
       "2411             0             1             0             0             0   \n",
       "4083             0             0             1             0             0   \n",
       "3196             0             0             1             0             0   \n",
       "3035             0             0             1             0             0   \n",
       "1772             0             0             0             0             1   \n",
       "\n",
       "      occupation_6  \n",
       "2411             0  \n",
       "4083             0  \n",
       "3196             0  \n",
       "3035             0  \n",
       "1772             0  "
      ]
     },
     "execution_count": 101,
     "metadata": {},
     "output_type": "execute_result"
    }
   ],
   "source": [
    "X_train.head()"
   ]
  },
  {
   "cell_type": "markdown",
   "metadata": {},
   "source": [
    "\n",
    "### Train on the trainining set"
   ]
  },
  {
   "cell_type": "code",
   "execution_count": 102,
   "metadata": {},
   "outputs": [],
   "source": [
    "from sklearn.ensemble import RandomForestClassifier"
   ]
  },
  {
   "cell_type": "code",
   "execution_count": 103,
   "metadata": {},
   "outputs": [
    {
     "data": {
      "text/plain": [
       "RandomForestClassifier(bootstrap=True, class_weight=None, criterion='gini',\n",
       "            max_depth=None, max_features='auto', max_leaf_nodes=None,\n",
       "            min_impurity_decrease=0.0, min_impurity_split=None,\n",
       "            min_samples_leaf=1, min_samples_split=2,\n",
       "            min_weight_fraction_leaf=0.0, n_estimators=10, n_jobs=1,\n",
       "            oob_score=False, random_state=0, verbose=0, warm_start=False)"
      ]
     },
     "execution_count": 103,
     "metadata": {},
     "output_type": "execute_result"
    }
   ],
   "source": [
    "cl = RandomForestClassifier(random_state = 0)\n",
    "cl.fit(X_train,Y_train)"
   ]
  },
  {
   "cell_type": "code",
   "execution_count": 104,
   "metadata": {},
   "outputs": [
    {
     "data": {
      "text/plain": [
       "4456"
      ]
     },
     "execution_count": 104,
     "metadata": {},
     "output_type": "execute_result"
    }
   ],
   "source": [
    "len(X_train)"
   ]
  },
  {
   "cell_type": "code",
   "execution_count": 105,
   "metadata": {},
   "outputs": [
    {
     "data": {
      "text/plain": [
       "1910"
      ]
     },
     "execution_count": 105,
     "metadata": {},
     "output_type": "execute_result"
    }
   ],
   "source": [
    "len(X_test)"
   ]
  },
  {
   "cell_type": "markdown",
   "metadata": {},
   "source": [
    "### predict on the test set"
   ]
  },
  {
   "cell_type": "code",
   "execution_count": 106,
   "metadata": {},
   "outputs": [
    {
     "data": {
      "text/plain": [
       "array([1., 0., 0., ..., 1., 1., 0.])"
      ]
     },
     "execution_count": 106,
     "metadata": {},
     "output_type": "execute_result"
    }
   ],
   "source": [
    "cl.predict(X_test)"
   ]
  },
  {
   "cell_type": "markdown",
   "metadata": {},
   "source": [
    "Accuracy .."
   ]
  },
  {
   "cell_type": "code",
   "execution_count": 107,
   "metadata": {},
   "outputs": [
    {
     "data": {
      "text/plain": [
       "0.669109947643979"
      ]
     },
     "execution_count": 107,
     "metadata": {},
     "output_type": "execute_result"
    }
   ],
   "source": [
    "(cl.predict(X_test) == Y_test).mean()"
   ]
  },
  {
   "cell_type": "code",
   "execution_count": 108,
   "metadata": {},
   "outputs": [],
   "source": [
    "y_pred = cl.predict(X_test)"
   ]
  },
  {
   "cell_type": "code",
   "execution_count": 109,
   "metadata": {},
   "outputs": [
    {
     "data": {
      "text/plain": [
       "array([1., 0., 0., 1., 0., 0., 0., 0., 1., 0., 0., 0., 0., 0., 1., 0., 0.,\n",
       "       1., 1., 0.])"
      ]
     },
     "execution_count": 109,
     "metadata": {},
     "output_type": "execute_result"
    }
   ],
   "source": [
    "y_pred[:20]"
   ]
  },
  {
   "cell_type": "markdown",
   "metadata": {},
   "source": [
    "Every classifier will also give a prediction output with probability"
   ]
  },
  {
   "cell_type": "code",
   "execution_count": 110,
   "metadata": {},
   "outputs": [
    {
     "data": {
      "text/plain": [
       "array([[0.        , 1.        ],\n",
       "       [1.        , 0.        ],\n",
       "       [0.8       , 0.2       ],\n",
       "       ...,\n",
       "       [0.46666667, 0.53333333],\n",
       "       [0.4       , 0.6       ],\n",
       "       [0.835     , 0.165     ]])"
      ]
     },
     "execution_count": 110,
     "metadata": {},
     "output_type": "execute_result"
    }
   ],
   "source": [
    "cl.predict_proba(X_test)"
   ]
  },
  {
   "cell_type": "code",
   "execution_count": 111,
   "metadata": {},
   "outputs": [
    {
     "data": {
      "text/plain": [
       "array([1.        , 0.        , 0.2       , ..., 0.53333333, 0.6       ,\n",
       "       0.165     ])"
      ]
     },
     "execution_count": 111,
     "metadata": {},
     "output_type": "execute_result"
    }
   ],
   "source": [
    "cl.predict_proba(X_test)[:,1]"
   ]
  },
  {
   "cell_type": "code",
   "execution_count": 112,
   "metadata": {},
   "outputs": [],
   "source": [
    "y_pred_proba = cl.predict_proba(X_test)[:,1]"
   ]
  },
  {
   "cell_type": "code",
   "execution_count": 113,
   "metadata": {},
   "outputs": [
    {
     "data": {
      "text/plain": [
       "array([1.        , 0.        , 0.2       , 0.8       , 0.165     ,\n",
       "       0.1       , 0.45      , 0.        , 0.9       , 0.3       ,\n",
       "       0.03      , 0.        , 0.13457949, 0.        , 0.82833333,\n",
       "       0.2       , 0.1025641 , 0.8       , 0.525     , 0.        ])"
      ]
     },
     "execution_count": 113,
     "metadata": {},
     "output_type": "execute_result"
    }
   ],
   "source": [
    "y_pred_proba[:20]"
   ]
  },
  {
   "cell_type": "markdown",
   "metadata": {},
   "source": [
    "### collect scores"
   ]
  },
  {
   "cell_type": "markdown",
   "metadata": {},
   "source": [
    "#### Confusion matrix"
   ]
  },
  {
   "cell_type": "code",
   "execution_count": 114,
   "metadata": {},
   "outputs": [],
   "source": [
    "from sklearn.metrics import confusion_matrix"
   ]
  },
  {
   "cell_type": "code",
   "execution_count": 115,
   "metadata": {},
   "outputs": [],
   "source": [
    "import sklearn.metrics as met"
   ]
  },
  {
   "cell_type": "code",
   "execution_count": 116,
   "metadata": {},
   "outputs": [
    {
     "data": {
      "text/plain": [
       "array([[1033,  270],\n",
       "       [ 362,  245]])"
      ]
     },
     "execution_count": 116,
     "metadata": {},
     "output_type": "execute_result"
    }
   ],
   "source": [
    "confusion_matrix(Y_test,y_pred)"
   ]
  },
  {
   "cell_type": "markdown",
   "metadata": {},
   "source": [
    "#### Accuracy"
   ]
  },
  {
   "cell_type": "code",
   "execution_count": 117,
   "metadata": {},
   "outputs": [
    {
     "data": {
      "text/plain": [
       "0.669109947643979"
      ]
     },
     "execution_count": 117,
     "metadata": {},
     "output_type": "execute_result"
    }
   ],
   "source": [
    "(y_pred == Y_test).mean()"
   ]
  },
  {
   "cell_type": "code",
   "execution_count": 118,
   "metadata": {},
   "outputs": [
    {
     "data": {
      "text/plain": [
       "0.669109947643979"
      ]
     },
     "execution_count": 118,
     "metadata": {},
     "output_type": "execute_result"
    }
   ],
   "source": [
    "met.accuracy_score(Y_test, y_pred)"
   ]
  },
  {
   "cell_type": "markdown",
   "metadata": {},
   "source": [
    "#### Precision, (out of the retrieved elements, how many are actually positive?)"
   ]
  },
  {
   "cell_type": "code",
   "execution_count": 119,
   "metadata": {},
   "outputs": [
    {
     "data": {
      "text/plain": [
       "0.47572815533980584"
      ]
     },
     "execution_count": 119,
     "metadata": {},
     "output_type": "execute_result"
    }
   ],
   "source": [
    "met.precision_score(Y_test,y_pred)"
   ]
  },
  {
   "cell_type": "code",
   "execution_count": 120,
   "metadata": {},
   "outputs": [
    {
     "data": {
      "text/plain": [
       "0.31780104712041884"
      ]
     },
     "execution_count": 120,
     "metadata": {},
     "output_type": "execute_result"
    }
   ],
   "source": [
    "Y_test.mean()"
   ]
  },
  {
   "cell_type": "markdown",
   "metadata": {},
   "source": [
    "#### Recall, (Among the relevant elements, how many did I retrieve?)"
   ]
  },
  {
   "cell_type": "code",
   "execution_count": 121,
   "metadata": {},
   "outputs": [
    {
     "data": {
      "text/plain": [
       "0.40362438220757824"
      ]
     },
     "execution_count": 121,
     "metadata": {},
     "output_type": "execute_result"
    }
   ],
   "source": [
    "met.recall_score(Y_test,y_pred)"
   ]
  },
  {
   "cell_type": "markdown",
   "metadata": {},
   "source": [
    "#### AUC score"
   ]
  },
  {
   "cell_type": "code",
   "execution_count": 122,
   "metadata": {
    "scrolled": true
   },
   "outputs": [
    {
     "data": {
      "text/plain": [
       "0.6633974821758432"
      ]
     },
     "execution_count": 122,
     "metadata": {},
     "output_type": "execute_result"
    }
   ],
   "source": [
    "met.roc_auc_score(Y_test,y_pred_proba)"
   ]
  },
  {
   "cell_type": "markdown",
   "metadata": {},
   "source": [
    "Why we need AUC:\n",
    "For every classification threshold, you obtain a different confusion matrix ==> you obtain a different specificity and sensitivity"
   ]
  },
  {
   "cell_type": "markdown",
   "metadata": {},
   "source": [
    "# Cross-validation"
   ]
  },
  {
   "cell_type": "code",
   "execution_count": 123,
   "metadata": {},
   "outputs": [],
   "source": [
    "from sklearn.model_selection import KFold"
   ]
  },
  {
   "cell_type": "code",
   "execution_count": 124,
   "metadata": {},
   "outputs": [],
   "source": [
    "nfolds = 10"
   ]
  },
  {
   "cell_type": "code",
   "execution_count": 125,
   "metadata": {},
   "outputs": [],
   "source": [
    "kf = KFold(n_splits=nfolds,random_state=0,shuffle=True)"
   ]
  },
  {
   "cell_type": "code",
   "execution_count": 126,
   "metadata": {
    "scrolled": true
   },
   "outputs": [],
   "source": [
    "avgCV_AUC = sk.model_selection.cross_val_score(cl,X,Y,cv=kf,n_jobs=-1,\\\n",
    "                                                    scoring='roc_auc').mean()"
   ]
  },
  {
   "cell_type": "code",
   "execution_count": 127,
   "metadata": {},
   "outputs": [
    {
     "data": {
      "text/plain": [
       "0.6694394658253439"
      ]
     },
     "execution_count": 127,
     "metadata": {},
     "output_type": "execute_result"
    }
   ],
   "source": [
    "avgCV_AUC"
   ]
  },
  {
   "cell_type": "markdown",
   "metadata": {},
   "source": [
    "# Which classifier obtains the highest performance?"
   ]
  },
  {
   "cell_type": "markdown",
   "metadata": {},
   "source": [
    "Here is a list of classifiers"
   ]
  },
  {
   "cell_type": "code",
   "execution_count": 128,
   "metadata": {},
   "outputs": [],
   "source": [
    "from sklearn.ensemble import RandomForestClassifier\n",
    "from sklearn.naive_bayes import GaussianNB\n",
    "from sklearn.discriminant_analysis import QuadraticDiscriminantAnalysis\n",
    "from sklearn.neural_network import MLPClassifier\n",
    "from sklearn.ensemble import BaggingClassifier\n",
    "from sklearn.neighbors import KNeighborsClassifier\n",
    "from sklearn.ensemble import AdaBoostClassifier\n",
    "from sklearn.svm import SVC\n",
    "from sklearn.tree import DecisionTreeClassifier\n",
    "\n",
    "clfs = [DecisionTreeClassifier(), sk.ensemble.RandomForestClassifier(n_jobs=-1), sk.naive_bayes.GaussianNB(),\n",
    "        sk.linear_model.LogisticRegression(n_jobs=-1),sk.tree.DecisionTreeClassifier(),sk.ensemble.AdaBoostClassifier(),\n",
    "        QuadraticDiscriminantAnalysis(),MLPClassifier(),SVC()]"
   ]
  },
  {
   "cell_type": "markdown",
   "metadata": {},
   "source": [
    "Let's find the best one in terms of average AUC"
   ]
  },
  {
   "cell_type": "code",
   "execution_count": 129,
   "metadata": {},
   "outputs": [
    {
     "name": "stdout",
     "output_type": "stream",
     "text": [
      "DecisionTreeClassifier(class_weight=None, criterion='gini', max_depth=None,\n",
      "            max_features=None, max_leaf_nodes=None,\n",
      "            min_impurity_decrease=0.0, min_impurity_split=None,\n",
      "            min_samples_leaf=1, min_samples_split=2,\n",
      "            min_weight_fraction_leaf=0.0, presort=False, random_state=None,\n",
      "            splitter='best') 0.6059994238694618\n",
      "RandomForestClassifier(bootstrap=True, class_weight=None, criterion='gini',\n",
      "            max_depth=None, max_features='auto', max_leaf_nodes=None,\n",
      "            min_impurity_decrease=0.0, min_impurity_split=None,\n",
      "            min_samples_leaf=1, min_samples_split=2,\n",
      "            min_weight_fraction_leaf=0.0, n_estimators=10, n_jobs=-1,\n",
      "            oob_score=False, random_state=None, verbose=0,\n",
      "            warm_start=False) 0.6763011848979179\n",
      "GaussianNB(priors=None) 0.7108902761299702\n"
     ]
    },
    {
     "name": "stderr",
     "output_type": "stream",
     "text": [
      "/anaconda3/lib/python3.6/site-packages/sklearn/linear_model/logistic.py:1228: UserWarning: 'n_jobs' > 1 does not have any effect when 'solver' is set to 'liblinear'. Got 'n_jobs' = -1.\n",
      "  \" = {}.\".format(self.n_jobs))\n",
      "/anaconda3/lib/python3.6/site-packages/sklearn/linear_model/logistic.py:1228: UserWarning: 'n_jobs' > 1 does not have any effect when 'solver' is set to 'liblinear'. Got 'n_jobs' = -1.\n",
      "  \" = {}.\".format(self.n_jobs))\n",
      "/anaconda3/lib/python3.6/site-packages/sklearn/linear_model/logistic.py:1228: UserWarning: 'n_jobs' > 1 does not have any effect when 'solver' is set to 'liblinear'. Got 'n_jobs' = -1.\n",
      "  \" = {}.\".format(self.n_jobs))\n",
      "/anaconda3/lib/python3.6/site-packages/sklearn/linear_model/logistic.py:1228: UserWarning: 'n_jobs' > 1 does not have any effect when 'solver' is set to 'liblinear'. Got 'n_jobs' = -1.\n",
      "  \" = {}.\".format(self.n_jobs))\n",
      "/anaconda3/lib/python3.6/site-packages/sklearn/linear_model/logistic.py:1228: UserWarning: 'n_jobs' > 1 does not have any effect when 'solver' is set to 'liblinear'. Got 'n_jobs' = -1.\n",
      "  \" = {}.\".format(self.n_jobs))\n",
      "/anaconda3/lib/python3.6/site-packages/sklearn/linear_model/logistic.py:1228: UserWarning: 'n_jobs' > 1 does not have any effect when 'solver' is set to 'liblinear'. Got 'n_jobs' = -1.\n",
      "  \" = {}.\".format(self.n_jobs))\n",
      "/anaconda3/lib/python3.6/site-packages/sklearn/linear_model/logistic.py:1228: UserWarning: 'n_jobs' > 1 does not have any effect when 'solver' is set to 'liblinear'. Got 'n_jobs' = -1.\n",
      "  \" = {}.\".format(self.n_jobs))\n",
      "/anaconda3/lib/python3.6/site-packages/sklearn/linear_model/logistic.py:1228: UserWarning: 'n_jobs' > 1 does not have any effect when 'solver' is set to 'liblinear'. Got 'n_jobs' = -1.\n",
      "  \" = {}.\".format(self.n_jobs))\n",
      "/anaconda3/lib/python3.6/site-packages/sklearn/linear_model/logistic.py:1228: UserWarning: 'n_jobs' > 1 does not have any effect when 'solver' is set to 'liblinear'. Got 'n_jobs' = -1.\n",
      "  \" = {}.\".format(self.n_jobs))\n",
      "/anaconda3/lib/python3.6/site-packages/sklearn/linear_model/logistic.py:1228: UserWarning: 'n_jobs' > 1 does not have any effect when 'solver' is set to 'liblinear'. Got 'n_jobs' = -1.\n",
      "  \" = {}.\".format(self.n_jobs))\n"
     ]
    },
    {
     "name": "stdout",
     "output_type": "stream",
     "text": [
      "LogisticRegression(C=1.0, class_weight=None, dual=False, fit_intercept=True,\n",
      "          intercept_scaling=1, max_iter=100, multi_class='ovr', n_jobs=-1,\n",
      "          penalty='l2', random_state=None, solver='liblinear', tol=0.0001,\n",
      "          verbose=0, warm_start=False) 0.7437999659917545\n",
      "DecisionTreeClassifier(class_weight=None, criterion='gini', max_depth=None,\n",
      "            max_features=None, max_leaf_nodes=None,\n",
      "            min_impurity_decrease=0.0, min_impurity_split=None,\n",
      "            min_samples_leaf=1, min_samples_split=2,\n",
      "            min_weight_fraction_leaf=0.0, presort=False, random_state=None,\n",
      "            splitter='best') 0.6059994238694618\n",
      "AdaBoostClassifier(algorithm='SAMME.R', base_estimator=None,\n",
      "          learning_rate=1.0, n_estimators=50, random_state=None) 0.7545920365126995\n"
     ]
    },
    {
     "name": "stderr",
     "output_type": "stream",
     "text": [
      "/anaconda3/lib/python3.6/site-packages/sklearn/discriminant_analysis.py:682: UserWarning: Variables are collinear\n",
      "  warnings.warn(\"Variables are collinear\")\n",
      "/anaconda3/lib/python3.6/site-packages/sklearn/discriminant_analysis.py:682: UserWarning: Variables are collinear\n",
      "  warnings.warn(\"Variables are collinear\")\n",
      "/anaconda3/lib/python3.6/site-packages/sklearn/discriminant_analysis.py:682: UserWarning: Variables are collinear\n",
      "  warnings.warn(\"Variables are collinear\")\n",
      "/anaconda3/lib/python3.6/site-packages/sklearn/discriminant_analysis.py:682: UserWarning: Variables are collinear\n",
      "  warnings.warn(\"Variables are collinear\")\n",
      "/anaconda3/lib/python3.6/site-packages/sklearn/discriminant_analysis.py:682: UserWarning: Variables are collinear\n",
      "  warnings.warn(\"Variables are collinear\")\n",
      "/anaconda3/lib/python3.6/site-packages/sklearn/discriminant_analysis.py:682: UserWarning: Variables are collinear\n",
      "  warnings.warn(\"Variables are collinear\")\n",
      "/anaconda3/lib/python3.6/site-packages/sklearn/discriminant_analysis.py:682: UserWarning: Variables are collinear\n",
      "  warnings.warn(\"Variables are collinear\")\n",
      "/anaconda3/lib/python3.6/site-packages/sklearn/discriminant_analysis.py:682: UserWarning: Variables are collinear\n",
      "  warnings.warn(\"Variables are collinear\")\n",
      "/anaconda3/lib/python3.6/site-packages/sklearn/discriminant_analysis.py:682: UserWarning: Variables are collinear\n",
      "  warnings.warn(\"Variables are collinear\")\n",
      "/anaconda3/lib/python3.6/site-packages/sklearn/discriminant_analysis.py:682: UserWarning: Variables are collinear\n",
      "  warnings.warn(\"Variables are collinear\")\n",
      "/anaconda3/lib/python3.6/site-packages/sklearn/discriminant_analysis.py:682: UserWarning: Variables are collinear\n",
      "  warnings.warn(\"Variables are collinear\")\n",
      "/anaconda3/lib/python3.6/site-packages/sklearn/discriminant_analysis.py:682: UserWarning: Variables are collinear\n",
      "  warnings.warn(\"Variables are collinear\")\n",
      "/anaconda3/lib/python3.6/site-packages/sklearn/discriminant_analysis.py:682: UserWarning: Variables are collinear\n",
      "  warnings.warn(\"Variables are collinear\")\n",
      "/anaconda3/lib/python3.6/site-packages/sklearn/discriminant_analysis.py:682: UserWarning: Variables are collinear\n",
      "  warnings.warn(\"Variables are collinear\")\n",
      "/anaconda3/lib/python3.6/site-packages/sklearn/discriminant_analysis.py:682: UserWarning: Variables are collinear\n",
      "  warnings.warn(\"Variables are collinear\")\n",
      "/anaconda3/lib/python3.6/site-packages/sklearn/discriminant_analysis.py:682: UserWarning: Variables are collinear\n",
      "  warnings.warn(\"Variables are collinear\")\n",
      "/anaconda3/lib/python3.6/site-packages/sklearn/discriminant_analysis.py:682: UserWarning: Variables are collinear\n",
      "  warnings.warn(\"Variables are collinear\")\n",
      "/anaconda3/lib/python3.6/site-packages/sklearn/discriminant_analysis.py:682: UserWarning: Variables are collinear\n",
      "  warnings.warn(\"Variables are collinear\")\n",
      "/anaconda3/lib/python3.6/site-packages/sklearn/discriminant_analysis.py:682: UserWarning: Variables are collinear\n",
      "  warnings.warn(\"Variables are collinear\")\n",
      "/anaconda3/lib/python3.6/site-packages/sklearn/discriminant_analysis.py:682: UserWarning: Variables are collinear\n",
      "  warnings.warn(\"Variables are collinear\")\n"
     ]
    },
    {
     "name": "stdout",
     "output_type": "stream",
     "text": [
      "QuadraticDiscriminantAnalysis(priors=None, reg_param=0.0,\n",
      "               store_covariance=False, store_covariances=None, tol=0.0001) 0.6093372752014605\n",
      "MLPClassifier(activation='relu', alpha=0.0001, batch_size='auto', beta_1=0.9,\n",
      "       beta_2=0.999, early_stopping=False, epsilon=1e-08,\n",
      "       hidden_layer_sizes=(100,), learning_rate='constant',\n",
      "       learning_rate_init=0.001, max_iter=200, momentum=0.9,\n",
      "       nesterovs_momentum=True, power_t=0.5, random_state=None,\n",
      "       shuffle=True, solver='adam', tol=0.0001, validation_fraction=0.1,\n",
      "       verbose=False, warm_start=False) 0.742667812403495\n",
      "SVC(C=1.0, cache_size=200, class_weight=None, coef0=0.0,\n",
      "  decision_function_shape='ovr', degree=3, gamma='auto', kernel='rbf',\n",
      "  max_iter=-1, probability=False, random_state=None, shrinking=True,\n",
      "  tol=0.001, verbose=False) 0.7196528101270323\n",
      "***********************************************\n",
      "Best is... AdaBoostClassifier(algorithm='SAMME.R', base_estimator=None,\n",
      "          learning_rate=1.0, n_estimators=50, random_state=None) 0.7545920365126995\n"
     ]
    }
   ],
   "source": [
    "maxAUC = -1\n",
    "bestCL = \"\"\n",
    "for cl in clfs:\n",
    "    auc = sk.model_selection.cross_val_score(cl,X,Y,cv=kf,n_jobs=-1,scoring='roc_auc').mean()\n",
    "    print (str(cl) + ' ' + str(auc))\n",
    "    if auc > maxAUC:\n",
    "        bestCL = cl\n",
    "        maxAUC = auc\n",
    "print('***********************************************')\n",
    "print ('Best is... ' + str(bestCL) + ' ' + str(maxAUC))"
   ]
  },
  {
   "cell_type": "code",
   "execution_count": null,
   "metadata": {},
   "outputs": [],
   "source": []
  }
 ],
 "metadata": {
  "kernelspec": {
   "display_name": "Python 3",
   "language": "python",
   "name": "python3"
  },
  "language_info": {
   "codemirror_mode": {
    "name": "ipython",
    "version": 3
   },
   "file_extension": ".py",
   "mimetype": "text/x-python",
   "name": "python",
   "nbconvert_exporter": "python",
   "pygments_lexer": "ipython3",
   "version": "3.6.5"
  }
 },
 "nbformat": 4,
 "nbformat_minor": 1
}
